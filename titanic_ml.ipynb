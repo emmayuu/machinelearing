{
  "cells": [
    {
      "metadata": {
        "_cell_guid": "cbd7d630-caf4-4ab1-a473-fa6e57185e6b",
        "_uuid": "6eb26e66eb4d9331a209de98750dd1a721881490"
      },
      "cell_type": "markdown",
      "source": "**Part one: Read in and explore the data**"
    },
    {
      "metadata": {
        "_cell_guid": "cd7a5a53-847d-45a0-b5b1-d229a73808d1",
        "_uuid": "e782acc9dfb51ce0d49242f28a631e82d1fd68df",
        "trusted": false,
        "collapsed": true
      },
      "cell_type": "code",
      "source": "import numpy as np \nimport pandas as pd \ndata = pd.read_csv(\"../input/Titanictrain.csv\")\ndata.head()",
      "execution_count": null,
      "outputs": []
    },
    {
      "metadata": {
        "_cell_guid": "06833e2f-49e1-4819-8ea9-b5fd9b90f953",
        "_uuid": "a4d64b39d25d7e080f46008aede1c15ce14fee5b",
        "trusted": false,
        "collapsed": true
      },
      "cell_type": "code",
      "source": "data.shape",
      "execution_count": null,
      "outputs": []
    },
    {
      "metadata": {
        "_cell_guid": "77877934-7412-4988-a32f-21c39f7eb128",
        "_uuid": "bc95ef411ce3d836170869dd6e14af170d4246c4",
        "trusted": false,
        "collapsed": true
      },
      "cell_type": "code",
      "source": "data.describe()",
      "execution_count": null,
      "outputs": []
    },
    {
      "metadata": {
        "_cell_guid": "13599dc2-d426-4862-b5a3-d20eda5ca215",
        "_uuid": "7833640e8b699d74e9373c31ef1fd7b1f014c718",
        "trusted": false,
        "collapsed": true
      },
      "cell_type": "code",
      "source": "data.dtypes",
      "execution_count": null,
      "outputs": []
    },
    {
      "metadata": {
        "_cell_guid": "40c6194a-7110-4f91-874a-e3eb8bf66bc8",
        "_uuid": "e1c1f9f338252da5a279f8107a40b15df23dded0",
        "trusted": false,
        "collapsed": true
      },
      "cell_type": "code",
      "source": "data.count()",
      "execution_count": null,
      "outputs": []
    },
    {
      "metadata": {
        "_cell_guid": "ad998127-18bc-4316-adb0-b22bc15f65db",
        "_uuid": "6e16a6e04b070a52040d652024e264430486e6ba",
        "trusted": false,
        "collapsed": true
      },
      "cell_type": "code",
      "source": "print(\"Number of Males who survived:\", data[\"Name\"][(data['Sex']==\"male\") & (data['Survived']== 1)].count())\nprint(\"Number of Females who survived:\", data[\"Name\"][(data['Sex']==\"female\") & (data['Survived']== 1)].count())\nprint(\"Number of Females who survived:\", data[\"Name\"][(data['Survived']== 1)].count())",
      "execution_count": null,
      "outputs": []
    },
    {
      "metadata": {
        "_cell_guid": "41c6e8fe-ef31-402c-87dd-dc6196585df7",
        "_uuid": "a030b5ba1a7147e23e0b792758b2fe8bfdf55298",
        "trusted": false,
        "collapsed": true
      },
      "cell_type": "code",
      "source": "dfclasssex = data.groupby([\"Pclass\",'Sex'])['Sex'].count()\ndfclasssex",
      "execution_count": null,
      "outputs": []
    },
    {
      "metadata": {
        "_cell_guid": "fe3acdab-52f1-47e5-a2a4-c335cc5f8724",
        "_uuid": "75eabceb90e1449c6f47e3bc779b4736f585a92b",
        "trusted": false,
        "collapsed": true
      },
      "cell_type": "code",
      "source": "dfclss = data.groupby([\"Pclass\",'Sex','Survived'])['Sex'].count()\ndfclss",
      "execution_count": null,
      "outputs": []
    },
    {
      "metadata": {
        "_cell_guid": "06b4fa8b-0ce2-45fb-9622-1c89a15a1d58",
        "_uuid": "db7e7b5b0908bd7d795706d334a029497e525493"
      },
      "cell_type": "markdown",
      "source": "**Part 2 Data Visualization**"
    },
    {
      "metadata": {
        "_cell_guid": "1f8bb21e-bdc8-49e2-835d-c7ea20c5ee98",
        "collapsed": true,
        "_uuid": "50689e4b3c0afe989762bd5c45f05722beba866f",
        "trusted": false
      },
      "cell_type": "code",
      "source": "import matplotlib.pyplot as plt\nimport seaborn as sns\n%matplotlib inline\n\nimport warnings\nwarnings.filterwarnings('ignore')",
      "execution_count": null,
      "outputs": []
    },
    {
      "metadata": {
        "_cell_guid": "7f7c26bb-a0d7-4973-913b-2d3f7d85977c",
        "_uuid": "79c2ab4262ff6334cc7b6a8827e18e4828236e0b",
        "trusted": false,
        "collapsed": true
      },
      "cell_type": "code",
      "source": "#percentages of females vs. males that survive\nsns.barplot(x=\"Sex\", y=\"Survived\",data=data)\nprint(\"Percentage of females who survived:\", data[\"Survived\"][data[\"Sex\"] == 'female'].value_counts(normalize = True)[1]*100)\nprint(\"Percentage of males who survived:\", data[\"Survived\"][data[\"Sex\"] == 'male'].value_counts(normalize = True)[1]*100)",
      "execution_count": null,
      "outputs": []
    },
    {
      "metadata": {
        "_cell_guid": "93ed0e71-6130-4d26-828e-8ff5d6f0f4a7",
        "collapsed": true,
        "_uuid": "019b2b132fed5c7af0a9f7e3ffee4ea3be07eff4",
        "trusted": false
      },
      "cell_type": "code",
      "source": " #According to the visualization, females have a much higher chance of survival than males. ",
      "execution_count": null,
      "outputs": []
    },
    {
      "metadata": {
        "_cell_guid": "158c3dde-54dc-4a86-9407-ee46d6f0b26e",
        "_uuid": "7a729fb2f5feaf3930030433a5ae098db3ed47de",
        "trusted": false,
        "collapsed": true
      },
      "cell_type": "code",
      "source": "#survive rate based on Pclass\nsns.barplot(x=\"Pclass\", y=\"Survived\", data=data)\nprint(\"Percentage of Pclass = 1 who survived:\", data[\"Survived\"][data[\"Pclass\"] == 1].value_counts(normalize = True)[1]*100)\nprint(\"Percentage of Pclass = 2 who survived:\", data[\"Survived\"][data[\"Pclass\"] == 2].value_counts(normalize = True)[1]*100)\nprint(\"Percentage of Pclass = 3 who survived:\", data[\"Survived\"][data[\"Pclass\"] == 3].value_counts(normalize = True)[1]*100)",
      "execution_count": null,
      "outputs": []
    },
    {
      "metadata": {
        "_cell_guid": "462a3ee5-2f83-4a1e-bc63-e779e888a7d0",
        "collapsed": true,
        "_uuid": "34a85b36031e7c27051f16ce1e8131476d84b340",
        "trusted": false
      },
      "cell_type": "code",
      "source": "# According to the graph, people in higher class have a higher chance of survival. ",
      "execution_count": null,
      "outputs": []
    },
    {
      "metadata": {
        "_cell_guid": "052ac711-91b6-4772-929c-dfdee3da9987",
        "_uuid": "5f7cdb93828207ed1d534e1e35a19e608b20025e",
        "trusted": false,
        "collapsed": true
      },
      "cell_type": "code",
      "source": "#survive rate based on SibSp\nsns.barplot(x=\"SibSp\", y=\"Survived\", data=data)\nprint(\"Percentage of SibSp = 0 who survived:\", data[\"Survived\"][data[\"SibSp\"] == 0].value_counts(normalize = True)[1]*100)\nprint(\"Percentage of SibSp = 1 who survived:\", data[\"Survived\"][data[\"SibSp\"] == 1].value_counts(normalize = True)[1]*100)\nprint(\"Percentage of SibSp = 2 who survived:\", data[\"Survived\"][data[\"SibSp\"] == 2].value_counts(normalize = True)[1]*100)",
      "execution_count": null,
      "outputs": []
    },
    {
      "metadata": {
        "_cell_guid": "d89a44f3-9bbb-4b29-af14-c193064f01be",
        "collapsed": true,
        "_uuid": "b64586f316c3030ec36cd0fdd6fc44a3ad0a9177",
        "trusted": false
      },
      "cell_type": "code",
      "source": "# According to graph, people who have more siblings or spouses aboard were less likely to survive.\n# People with no siblings or spouses were less likely to survive than people who have one or two. ",
      "execution_count": null,
      "outputs": []
    },
    {
      "metadata": {
        "_cell_guid": "1e5fc476-bab8-4dda-a76b-4b4de4afd26a",
        "_uuid": "81f5a97555a59b508ac297472c7aaab643a2b7dc",
        "trusted": false,
        "collapsed": true
      },
      "cell_type": "code",
      "source": "#survive rate based on parch\nsns.barplot(x=\"Parch\", y=\"Survived\",data=data)\nplt.show()",
      "execution_count": null,
      "outputs": []
    },
    {
      "metadata": {
        "_cell_guid": "db692727-c33d-45cb-be62-6187bef707be",
        "collapsed": true,
        "_uuid": "10ede52e2031b520c4e1b0487d252d127e00d59b",
        "trusted": false
      },
      "cell_type": "code",
      "source": "#Accorning to the graph, people with less than four parents or children aboard are more likely to survive than people who have more than four or more. \n#People traveling alone are less likely to survive than those with 1-3 parents or children. ",
      "execution_count": null,
      "outputs": []
    },
    {
      "metadata": {
        "_cell_guid": "12363326-da3e-4b03-a3dc-75ce6cb67015",
        "_uuid": "a2840f15dd5f8887d1a98e80cb3900467197be68",
        "trusted": false,
        "collapsed": true
      },
      "cell_type": "code",
      "source": "#survive rate according to age\ndata[\"Age\"] = data[\"Age\"].fillna(-0.5)\nbins = [-1, 0, 5, 12, 18, 24, 35, 60, np.inf]\nlabels = ['Unknown', 'Baby', 'Child', 'Teenager', 'New Adult', 'Young Adult', 'Adult', 'Senior']\ndata['AgeGroup'] = pd.cut(data[\"Age\"], bins, labels = labels)\nsns.barplot(x=\"AgeGroup\", y=\"Survived\", data=data)\nplt.show()",
      "execution_count": null,
      "outputs": []
    },
    {
      "metadata": {
        "_cell_guid": "a827e685-03aa-4063-8a8e-4e32b24164e7",
        "collapsed": true,
        "_uuid": "12bc3aba472823e3dc2d6ed55e3c5be935d5866e",
        "trusted": false
      },
      "cell_type": "code",
      "source": "#According to the graph, babies are more likely to survive than any other age group. ",
      "execution_count": null,
      "outputs": []
    },
    {
      "metadata": {
        "_cell_guid": "c96af1fe-1025-49c2-980d-78c92f949565",
        "_uuid": "f75af8ddfbda1188b6cd3ab7371e3053fdbe7874"
      },
      "cell_type": "markdown",
      "source": "**Part 3 Predictive Modeling**"
    },
    {
      "metadata": {
        "_cell_guid": "f6055238-a070-4312-bb0c-3d66146b0324",
        "_uuid": "ce9802c855261f97a8881573326a0271b557dc73",
        "trusted": false,
        "collapsed": true
      },
      "cell_type": "code",
      "source": "# Recode\ndata['Sex'] = data['Sex'].apply(lambda x: \"1\" if x==\"female\" else \"0\")\n#Generate Row ID and replace the names\ndata[\"rowid\"] = data.index\ndata.head()\ndata.index = data[\"Name\"]\ndata = data.drop(\"Name\", axis=1)\ndata.head()",
      "execution_count": null,
      "outputs": []
    },
    {
      "metadata": {
        "_cell_guid": "f3718d0f-e677-4434-926d-e5c59df2377b",
        "_uuid": "7e0a3b3919cb3384d424cbe5ab7a33be49026236",
        "trusted": false,
        "collapsed": true
      },
      "cell_type": "code",
      "source": "data = data.drop(\"Fare\", axis=1)\ndata = data.drop(\"Embarked\", axis=1)\ndata = data.drop(\"AgeGroup\", axis=1)\ndata.head()",
      "execution_count": null,
      "outputs": []
    },
    {
      "metadata": {
        "_cell_guid": "0e524d3c-d79d-4588-bfc8-2d685ff898fb",
        "_uuid": "3419e0642b548e9b62c926d503aa8b711b846d38",
        "trusted": false,
        "collapsed": true
      },
      "cell_type": "code",
      "source": "data = data[[\"rowid\",\"Survived\",\"Sex\",\"Age\",\"Pclass\",\"SibSp\",\"Parch\",]]\ndata.head()",
      "execution_count": null,
      "outputs": []
    },
    {
      "metadata": {
        "_cell_guid": "060fb4ed-d53f-4f83-bbd0-9f5e7a3c3b66",
        "_uuid": "c6e571c563befcccfdd45f00489bd88777551ec2",
        "trusted": false,
        "collapsed": true
      },
      "cell_type": "code",
      "source": "data[\"complete\"] = data[\"Age\"].apply(lambda x:0 if np.isnan(x) else 1 )\nprint(data.loc[data[\"complete\"]==0].head())\ndata.head()",
      "execution_count": null,
      "outputs": []
    },
    {
      "metadata": {
        "_cell_guid": "1428731e-7f61-4ff1-a76d-27708bb43d42",
        "collapsed": true,
        "_uuid": "2db2fcf018d1fdf739280254264f16d676a627a6",
        "trusted": false
      },
      "cell_type": "code",
      "source": "# Random Forest",
      "execution_count": null,
      "outputs": []
    },
    {
      "metadata": {
        "_cell_guid": "421237f8-2393-4471-ac08-5f3f8df28d4f",
        "collapsed": true,
        "_uuid": "5d04018e7d0303caed0656403fe4b465c83f7966",
        "trusted": false
      },
      "cell_type": "code",
      "source": "features = [\"Pclass\",\"Sex\",\"Age\"]",
      "execution_count": null,
      "outputs": []
    },
    {
      "metadata": {
        "_cell_guid": "d6acea0c-3335-4383-b615-8f32137a749f",
        "_uuid": "1c2c317152e92fc026ca383c95277abf505c52ec",
        "trusted": false,
        "collapsed": true
      },
      "cell_type": "code",
      "source": "print(data[features].head())",
      "execution_count": null,
      "outputs": []
    },
    {
      "metadata": {
        "_cell_guid": "e0893e62-7acb-4f3d-880b-68193051d308",
        "collapsed": true,
        "_uuid": "161b25b9acdcf11bf902f9717ad7516bea0c25bc",
        "trusted": false
      },
      "cell_type": "code",
      "source": "from sklearn.preprocessing import Imputer\nimp = Imputer(missing_values='NaN', strategy='mean', axis=0)\nimp = imp.fit(data[features])",
      "execution_count": null,
      "outputs": []
    },
    {
      "metadata": {
        "_cell_guid": "87e4f09b-6ad9-4492-86a2-84dde43a4c72",
        "collapsed": true,
        "_uuid": "36c107d0cff516ae92c72d9a12a616eb4fba33d3",
        "trusted": false
      },
      "cell_type": "code",
      "source": "data[features] = imp.transform(data[features])",
      "execution_count": null,
      "outputs": []
    },
    {
      "metadata": {
        "_cell_guid": "cda84ee4-72db-4641-9ffb-3d0833b7e074",
        "_uuid": "b5872db9454e325fde289aa7302eea0dc33cd2e0",
        "trusted": false,
        "collapsed": true
      },
      "cell_type": "code",
      "source": "print(data[(data['complete']==0)].head())",
      "execution_count": null,
      "outputs": []
    },
    {
      "metadata": {
        "_cell_guid": "66208cb6-7fab-42fc-8dad-ed8b837268bc",
        "_uuid": "743679b061f3b03eb31ea89f5ced6472d04422ff",
        "trusted": false,
        "collapsed": true
      },
      "cell_type": "code",
      "source": "from sklearn.ensemble import RandomForestClassifier\nprint(\"Train a Random Forest model without NA and factorized data\")\nrf = RandomForestClassifier(n_estimators=500, n_jobs=-1, criterion=\"entropy\", random_state=1)\nclf=rf.fit(data[features], data['Survived'])\nprint(clf)",
      "execution_count": null,
      "outputs": []
    },
    {
      "metadata": {
        "_cell_guid": "af6f9a6c-73e8-454a-9016-a63f5c6ad142",
        "_uuid": "392efda868dadf739b87c102e9a910456dae9b11",
        "trusted": false,
        "collapsed": true
      },
      "cell_type": "code",
      "source": "importances = clf.feature_importances_\nprint(importances)",
      "execution_count": null,
      "outputs": []
    },
    {
      "metadata": {
        "_cell_guid": "90a1d3ce-ba1d-4c96-9ce0-4d3fea2c7b60",
        "collapsed": true,
        "_uuid": "947bbb55e39cc2fb253d0ed9a11a18de3edf4976",
        "trusted": false
      },
      "cell_type": "code",
      "source": "# age plays the most important role among passengerclass, sex and age.",
      "execution_count": null,
      "outputs": []
    },
    {
      "metadata": {
        "_cell_guid": "3f393e94-a0fa-4713-a7fa-02e37f648ebc",
        "_uuid": "d8ac0fec05bdd91c4db1036f88eb4822e263dc6d",
        "trusted": false,
        "collapsed": true
      },
      "cell_type": "code",
      "source": "import matplotlib.pyplot as plt\nvariables = clf.feature_importances_\nfeatures\nindices = np.argsort(importances)\nplt.barh(indices,variables,color='r')\nplt.yticks(indices,features)\nplt.show()",
      "execution_count": null,
      "outputs": []
    },
    {
      "metadata": {
        "_cell_guid": "97601342-2619-4a6e-93ef-ef9c0fe9bdda",
        "collapsed": true,
        "_uuid": "7c38c14e50e6c48fbb41309e098b4e57f9adcc31",
        "trusted": false
      },
      "cell_type": "code",
      "source": "#Logistic Regression",
      "execution_count": null,
      "outputs": []
    },
    {
      "metadata": {
        "_cell_guid": "6802fca3-a4d5-4132-8b8a-4f9be59e53bb",
        "_uuid": "3fcf690a8528d8d214569de8d658c37d84b1269a",
        "trusted": false,
        "collapsed": true
      },
      "cell_type": "code",
      "source": "import sklearn.linear_model as lm\nimport sklearn.metrics as mm \nprint(\"Train a Logistic Regression model\")\nglm = lm.LogisticRegression()\nclf_glm =glm.fit(data[features], data[\"Survived\"])\nprd_lr = pd.DataFrame(clf_glm.predict_proba(data[features])[:,1])\ndata['prd.lr'] = prd_lr.values\n\nframes = [data]\nresult = pd.concat(frames)\nprint('Coefficients: \\n', clf_glm.coef_)\nprint(\"Mean squared error: %.2f\"\n      % mm.mean_squared_error(result['Survived'], result['prd.lr']))\nprint('Variance score: %.2f' % mm.r2_score(result['Survived'], result['prd.lr']))",
      "execution_count": null,
      "outputs": []
    },
    {
      "metadata": {
        "_cell_guid": "d290f5bb-050e-4c82-b15c-0dbf4cd8c4fa",
        "collapsed": true,
        "_uuid": "1f38f4edbe2444ed2cce2060cddcde93c322bbbf",
        "trusted": false
      },
      "cell_type": "code",
      "source": "#Naive Bayse",
      "execution_count": null,
      "outputs": []
    },
    {
      "metadata": {
        "_cell_guid": "d8bef7a4-dbef-4e48-bcc4-a60ea0abe4fe",
        "_uuid": "1a9111acd6fdc8f6917ba42c27e41e814bc02c49",
        "trusted": false,
        "collapsed": true
      },
      "cell_type": "code",
      "source": "from sklearn.naive_bayes import GaussianNB\nprint(\"Train a Naive Bayse model\")\nclfnb = GaussianNB()\nclfnb.fit(data[features], data[\"Survived\"])\n\nprd_nb = pd.DataFrame(clfnb.predict_proba(data[features])[:,1])\ndata['prd.nb'] = prd_nb.values\n\n#Merge Test and train\nframes = [data]\nresult = pd.concat(frames)\nresult.head()\n",
      "execution_count": null,
      "outputs": []
    },
    {
      "metadata": {
        "_cell_guid": "481d76a7-441d-4aba-a6f7-38bae1dfa22e",
        "_uuid": "c1db071a2e579c88d2cb64319680395b645757c4",
        "trusted": false,
        "collapsed": true
      },
      "cell_type": "code",
      "source": "#AdaBoosted decision Tree\nfrom sklearn.ensemble import AdaBoostClassifier\nfrom sklearn.tree import DecisionTreeClassifier\nprint(\"Train a Adaboost model\")\nbdt = AdaBoostClassifier(DecisionTreeClassifier(max_depth=1),\n                         algorithm=\"SAMME\",\n                         n_estimators=200)\n\nbdt.fit(data[features], data[\"Survived\"])\n\nprd_ada = pd.DataFrame(bdt.predict_proba(data[features])[:,1])\ndata['prd.ada'] = prd_ada.values\n\nframes = [data]\nresult = pd.concat(frames)\nresult.head()",
      "execution_count": null,
      "outputs": []
    },
    {
      "metadata": {
        "_cell_guid": "a85d9caa-a753-4e46-8572-179becc38279",
        "_uuid": "c8d07f89ec9ee66716f83f366f2ac373205c00ff",
        "trusted": false,
        "collapsed": true
      },
      "cell_type": "code",
      "source": "#Support Vector Machine\nfrom sklearn.svm import SVC\nclfsvm = SVC(probability=True)\nclfsvm.fit(data[features], data[\"Survived\"])\n\nprd_svm = pd.DataFrame(clfsvm.predict_proba(data[features])[:,1])\ndata['prd.svm'] = prd_svm.values\n\n\nframes = [data]\nresult = pd.concat(frames)\nresult.head()",
      "execution_count": null,
      "outputs": []
    },
    {
      "metadata": {
        "_cell_guid": "6ceb4c72-a846-449d-88e6-9af0b121ba79",
        "_uuid": "1d2e61ab79aefd4668d18d7b99d9a638d9231aa5",
        "trusted": false,
        "collapsed": true
      },
      "cell_type": "code",
      "source": "",
      "execution_count": null,
      "outputs": []
    }
  ],
  "metadata": {
    "kernelspec": {
      "display_name": "Python 3",
      "language": "python",
      "name": "python3"
    },
    "language_info": {
      "pygments_lexer": "ipython3",
      "nbconvert_exporter": "python",
      "codemirror_mode": {
        "name": "ipython",
        "version": 3
      },
      "mimetype": "text/x-python",
      "name": "python",
      "file_extension": ".py",
      "version": "3.6.4"
    }
  },
  "nbformat": 4,
  "nbformat_minor": 1
}