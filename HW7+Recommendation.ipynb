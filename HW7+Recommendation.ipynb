{
 "cells": [
  {
   "cell_type": "markdown",
   "metadata": {},
   "source": [
    "# Load data"
   ]
  },
  {
   "cell_type": "code",
   "execution_count": 5,
   "metadata": {},
   "outputs": [],
   "source": [
    "fp = open(\"/Users/emma/Desktop/uid_score_bid.dat.csv\",\"r\")"
   ]
  },
  {
   "cell_type": "code",
   "execution_count": 6,
   "metadata": {
    "collapsed": true
   },
   "outputs": [],
   "source": [
    "users = {}"
   ]
  },
  {
   "cell_type": "code",
   "execution_count": 9,
   "metadata": {},
   "outputs": [],
   "source": [
    "for line in open(\"/Users/emma/Desktop/uid_score_bid.dat.csv\"):\n",
    "    lines = line.strip().split(\",\")\n",
    "    if lines[0] not in users:\n",
    "        users[lines[0]] = {}\n",
    "    users[lines[0]][lines[2]]=float(lines[1])"
   ]
  },
  {
   "cell_type": "code",
   "execution_count": 13,
   "metadata": {
    "collapsed": true
   },
   "outputs": [],
   "source": [
    "from math import sqrt  "
   ]
  },
  {
   "cell_type": "markdown",
   "metadata": {},
   "source": [
    "# Build Recommendation system"
   ]
  },
  {
   "cell_type": "markdown",
   "metadata": {},
   "source": [
    "k:the number of neighbors\n",
    "\n",
    "metric: methods to caculate similaries\n",
    "\n",
    "n: number of recommendation books"
   ]
  },
  {
   "cell_type": "markdown",
   "metadata": {},
   "source": [
    "# user based CF"
   ]
  },
  {
   "cell_type": "code",
   "execution_count": 16,
   "metadata": {
    "collapsed": true
   },
   "outputs": [],
   "source": [
    "class recommender:\n",
    "    def __init__(self, data, k=3, metric='pearson', n=12):\n",
    "        self.k = k\n",
    "        self.n = n\n",
    "        self.username2id = {}\n",
    "        self.userid2name = {}\n",
    "        self.productid2name = {}\n",
    "        \n",
    "        self.metric = metric\n",
    "        if self.metric == 'pearson':\n",
    "            self.fn = self.pearson\n",
    "        if type(data).__name__ == 'dict':\n",
    "            self.data = data\n",
    "        \n",
    "    def convertProductID2name(self, id):\n",
    "        if id in self.productid2name:\n",
    "            return self.productid2name[id]\n",
    "        else:\n",
    "            return id\n",
    "        \n",
    "    # use pearson to caculate similaries:\n",
    "    def pearson(self, rating1, rating2):\n",
    "        sum_xy = 0\n",
    "        sum_x =0\n",
    "        sum_y = 0\n",
    "        sum_x2 = 0\n",
    "        sum_y2 = 0\n",
    "        n = 0\n",
    "        for key in rating1:\n",
    "            if key in rating2:\n",
    "                n += 1\n",
    "                x = rating1[key]\n",
    "                y = rating2[key]\n",
    "                sum_xy += x * y\n",
    "                sum_x += x\n",
    "                sum_y += y\n",
    "                sum_x2 += pow(x, 2)\n",
    "                sum_y2 += pow(y, 2)\n",
    "        if n == 0:\n",
    "            return 0\n",
    "        \n",
    "        denominator = sqrt(sum_x2 - pow(sum_x, 2) / n) * sqrt(sum_y2 - pow(sum_y, 2) / n)\n",
    "        if denominator == 0:\n",
    "            return 0\n",
    "        else:\n",
    "            return (sum_xy - (sum_x * sum_y) / n) / denominator\n",
    "        \n",
    "    def computeNearestNeighbor(self, username):\n",
    "        distances = []\n",
    "        for instance in self.data:\n",
    "            if instance != username:\n",
    "                distance = self.fn(self.data[username],self.data[instance])\n",
    "                distances.append((instance, distance))\n",
    "                \n",
    "        distances.sort(key=lambda artistTuple: artistTuple[1], reverse=True)\n",
    "        return distances\n",
    "    \n",
    "    #recommendation algorithm\n",
    "    def recommend(self, user):\n",
    "        recommendations = {}\n",
    "        nearest = self.computeNearestNeighbor(user)\n",
    "        \n",
    "        userRatings = self.data[user]\n",
    "        totalDistance = 0.0\n",
    "        \n",
    "        for i in range(self.k):\n",
    "            totalDistance += nearest[i][1]\n",
    "        if totalDistance == 0.0:\n",
    "            totalDistance=1.0\n",
    "            \n",
    "        for i in range(self.k):\n",
    "            weight = nearest[i][1] / totalDistance\n",
    "            \n",
    "            name = nearest[i][0]\n",
    "            \n",
    "            neighborRatings = self.data[name]\n",
    "            \n",
    "            for artist in neighborRatings:\n",
    "                if not artist in userRatings:  \n",
    "                    if artist not in recommendations:  \n",
    "                        recommendations[artist] = (neighborRatings[artist] * weight)\n",
    "                    else: \n",
    "                        recommendations[artist] = (recommendations[artist]+ neighborRatings[artist] * weight)\n",
    "                        \n",
    "        recommendations = list(recommendations.items())  \n",
    "        recommendations = [(self.convertProductID2name(k), v)for (k, v) in recommendations] \n",
    "        \n",
    "        recommendations.sort(key=lambda artistTuple: artistTuple[1], reverse = True)  \n",
    "  \n",
    "        return recommendations[:self.n],nearest\n",
    "\n",
    "def adjustrecommend(id):\n",
    "    bookid_list = []\n",
    "    r = recommender(users)\n",
    "    k,nearuser = r.recommend(\"%s\" % id)\n",
    "    for i in range(len(k)):\n",
    "        bookid_list.append(k[i][0])\n",
    "    return bookid_list,nearuser[:15]           "
   ]
  },
  {
   "cell_type": "code",
   "execution_count": 17,
   "metadata": {},
   "outputs": [
    {
     "name": "stdout",
     "output_type": "stream",
     "text": [
      "bookid_list: ['2143732', '4105446', '3315879', '1119522', '1059419', '1073744', '1431870', '1090043', '4742918', '10594787', '1057244', '2154960']\n",
      "near_list: [('122946019', 0.9547859244962533), ('56746289', 0.8280786712108233), ('yiminuansheng', 0.8236877675803737), ('4030281', 0.8209008497548285), ('46832091', 0.816666666666671), ('111223566', 0.812420748459488), ('4750931', 0.8017837257372784), ('65121529', 0.8006407690254372), ('57475649', 0.7883561227922886), ('budingsetlla', 0.7784989441615238), ('69874649', 0.7698003589195094), ('122191787', 0.7654779007031404), ('bshayna', 0.7500000000000061), ('94986189', 0.7500000000000061), ('53728385', 0.7500000000000061)]\n"
     ]
    }
   ],
   "source": [
    "bookid_list,near_list = adjustrecommend(\"changanamei\")  \n",
    "print (\"bookid_list:\",bookid_list)  \n",
    "print (\"near_list:\",near_list) "
   ]
  },
  {
   "cell_type": "markdown",
   "metadata": {},
   "source": [
    "# item based CF"
   ]
  },
  {
   "cell_type": "code",
   "execution_count": 18,
   "metadata": {
    "collapsed": true
   },
   "outputs": [],
   "source": [
    "import math"
   ]
  },
  {
   "cell_type": "code",
   "execution_count": 23,
   "metadata": {
    "collapsed": true
   },
   "outputs": [],
   "source": [
    "class ItemBasedCF:  \n",
    "    def __init__(self,train_file):  \n",
    "        self.train_file = train_file  \n",
    "        self.readData()  \n",
    "    def readData(self):  \n",
    "        self.train = dict()     #user-item rating and traindataset  \n",
    "        for line in open(self.train_file):  \n",
    "            # user,item,score = line.strip().split(\",\")  \n",
    "            user,score,item = line.strip().split(\",\")  \n",
    "            self.train.setdefault(user,{})  \n",
    "            self.train[user][item] = int(float(score)) \n",
    "            \n",
    "    def ItemSimilarity(self):  \n",
    "        #build item metrics  \n",
    "        C = dict()  #items  \n",
    "        N = dict()  #items be purchased by different users  \n",
    "        for user,items in self.train.items():  \n",
    "            for i in items.keys():  \n",
    "                N.setdefault(i,0)  \n",
    "                N[i] += 1  \n",
    "                C.setdefault(i,{})  \n",
    "                for j in items.keys():  \n",
    "                    if i == j : continue  \n",
    "                    C[i].setdefault(j,0)  \n",
    "                    C[i][j] += 1  \n",
    "                    \n",
    "    #caculate the simalities of item metrics\n",
    "        self.W = dict()  \n",
    "        for i,related_items in C.items():  \n",
    "            self.W.setdefault(i,{})  \n",
    "            for j,cij in related_items.items():  \n",
    "                self.W[i][j] = cij / (math.sqrt(N[i] * N[j]))  \n",
    "        return self.W \n",
    "    \n",
    "    #top k relevant users\n",
    "    def Recommend(self,user,K=3,N=10):  \n",
    "        rank = dict()  \n",
    "        action_item = self.train[user]     #user rating on the items  \n",
    "        for item,score in action_item.items():  \n",
    "            for j,wj in sorted(self.W[item].items(),key=lambda x:x[1],reverse=True)[0:K]:  \n",
    "                if j in action_item.keys():  \n",
    "                    continue  \n",
    "                rank.setdefault(j,0)  \n",
    "                rank[j] += score * wj  \n",
    "        return dict(sorted(rank.items(),key=lambda x:x[1],reverse=True)[0:N]) "
   ]
  },
  {
   "cell_type": "code",
   "execution_count": 28,
   "metadata": {},
   "outputs": [
    {
     "data": {
      "text/plain": [
       "{'1040104': 7.92927319994814,\n",
       " '1080309': 8.181614384131635,\n",
       " '1082138': 7.724094115315923,\n",
       " '1085799': 8.203142976157213,\n",
       " '1119522': 11.81651002922847,\n",
       " '1254588': 12.833112463864879,\n",
       " '26305561': 6.248165542160276,\n",
       " '26384985': 6.36064881658183,\n",
       " '26669243': 6.969721285190005,\n",
       " '3131626': 11.34269062173854}"
      ]
     },
     "execution_count": 28,
     "metadata": {},
     "output_type": "execute_result"
    }
   ],
   "source": [
    "Item = ItemBasedCF(\"/Users/emma/Desktop/uid_score_bid.dat.csv\")  \n",
    "Item.ItemSimilarity()  \n",
    "recommedDic = Item.Recommend(\"xiyuweilan\")"
   ]
  },
  {
   "cell_type": "code",
   "execution_count": 29,
   "metadata": {},
   "outputs": [
    {
     "name": "stdout",
     "output_type": "stream",
     "text": [
      "1254588 \t 12.833112463864879\n",
      "1119522 \t 11.81651002922847\n",
      "3131626 \t 11.34269062173854\n",
      "1085799 \t 8.203142976157213\n",
      "1080309 \t 8.181614384131635\n",
      "1040104 \t 7.92927319994814\n",
      "1082138 \t 7.724094115315923\n",
      "26669243 \t 6.969721285190005\n",
      "26384985 \t 6.36064881658183\n",
      "26305561 \t 6.248165542160276\n"
     ]
    }
   ],
   "source": [
    "for k,v in recommedDic.items():  \n",
    "    print(k,\"\\t\",v)"
   ]
  },
  {
   "cell_type": "code",
   "execution_count": null,
   "metadata": {
    "collapsed": true
   },
   "outputs": [],
   "source": []
  }
 ],
 "metadata": {
  "kernelspec": {
   "display_name": "Python 3",
   "language": "python",
   "name": "python3"
  },
  "language_info": {
   "codemirror_mode": {
    "name": "ipython",
    "version": 3
   },
   "file_extension": ".py",
   "mimetype": "text/x-python",
   "name": "python",
   "nbconvert_exporter": "python",
   "pygments_lexer": "ipython3",
   "version": "3.6.1"
  }
 },
 "nbformat": 4,
 "nbformat_minor": 2
}
